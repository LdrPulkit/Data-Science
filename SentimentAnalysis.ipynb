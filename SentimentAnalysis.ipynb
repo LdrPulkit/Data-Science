{
 "cells": [
  {
   "cell_type": "markdown",
   "metadata": {},
   "source": [
    "## Aspect based Sentiment Analysis"
   ]
  },
  {
   "cell_type": "code",
   "execution_count": 3,
   "metadata": {},
   "outputs": [
    {
     "name": "stderr",
     "output_type": "stream",
     "text": [
      "[nltk_data] Downloading package punkt to C:\\Users\\ABHA\n",
      "[nltk_data]     SHRIVASTAVA\\AppData\\Roaming\\nltk_data...\n",
      "[nltk_data]   Package punkt is already up-to-date!\n",
      "[nltk_data] Downloading package vader_lexicon to C:\\Users\\ABHA\n",
      "[nltk_data]     SHRIVASTAVA\\AppData\\Roaming\\nltk_data...\n"
     ]
    }
   ],
   "source": [
    "from pprint import pprint\n",
    "\n",
    "from vaderSentiment.vaderSentiment import SentimentIntensityAnalyzer\n",
    "import re\n",
    "import string\n",
    "\n",
    "import nltk\n",
    "nltk.download('punkt')\n",
    "nltk.download('vader_lexicon')\n",
    "from nltk.tokenize import word_tokenize, RegexpTokenizer\n",
    "\n",
    "from pycorenlp import StanfordCoreNLP"
   ]
  },
  {
   "cell_type": "code",
   "execution_count": 5,
   "metadata": {},
   "outputs": [],
   "source": [
    "## Sentences to analyze\n",
    "\n",
    "positive = \"This fried chicken tastes very good. It is juicy and perfectly cooked.\"\n",
    "negative = \"This fried chicken tasted bad. It is dry and overcooked.\"\n",
    "ambiguous = \"Except the amazing fried chicken everything else at the restaurant tastes very bad.\""
   ]
  },
  {
   "cell_type": "code",
   "execution_count": 6,
   "metadata": {},
   "outputs": [
    {
     "name": "stdout",
     "output_type": "stream",
     "text": [
      "Positive:\n",
      "'This fried chicken tastes very good. It is juicy and perfectly cooked.'\n",
      "{'compound': 0.8122, 'neg': 0.0, 'neu': 0.575, 'pos': 0.425}\n",
      "------------------------------\n",
      "Negative:\n",
      "'This fried chicken tasted bad. It is dry and overcooked.'\n",
      "{'compound': -0.5423, 'neg': 0.28, 'neu': 0.72, 'pos': 0.0}\n",
      "------------------------------\n",
      "Ambiguous:\n",
      "('Except the amazing fried chicken everything else at the restaurant tastes '\n",
      " 'very bad.')\n",
      "{'compound': 0.0018, 'neg': 0.204, 'neu': 0.592, 'pos': 0.204}\n",
      "------------------------------\n"
     ]
    }
   ],
   "source": [
    "## VarderSentiment: It scores from -1 to 1. -1 being negative and 1 being positive\n",
    "\n",
    "def sentiment_analyzer_scores(text):\n",
    "    sentiment_analyzer = SentimentIntensityAnalyzer()\n",
    "    score = sentiment_analyzer.polarity_scores(text)\n",
    "    pprint(text)\n",
    "    pprint(score)\n",
    "    print(\"-\"*30)\n",
    "    \n",
    "print(\"Positive:\")\n",
    "sentiment_analyzer_scores(positive)\n",
    "\n",
    "print(\"Negative:\")\n",
    "sentiment_analyzer_scores(negative)\n",
    "\n",
    "print(\"Ambiguous:\")\n",
    "sentiment_analyzer_scores(ambiguous)"
   ]
  },
  {
   "cell_type": "code",
   "execution_count": 7,
   "metadata": {},
   "outputs": [
    {
     "name": "stdout",
     "output_type": "stream",
     "text": [
      "This fried chicken tastes very good. It is juicy and perfectly cooked.\n",
      "Positive: ['good', 'perfectly']\n",
      "Negative: []\n",
      "Neutral: ['This', 'fried', 'chicken', 'tastes', 'very', '.', 'It', 'is', 'juicy', 'and', 'cooked', '.']\n",
      "------------------------------\n",
      "This fried chicken tasted bad. It is dry and overcooked.\n",
      "Positive: []\n",
      "Negative: ['bad']\n",
      "Neutral: ['This', 'fried', 'chicken', 'tasted', '.', 'It', 'is', 'dry', 'and', 'overcooked', '.']\n",
      "------------------------------\n",
      "Except the amazing fried chicken everything else at the restaurant tastes very bad.\n",
      "Positive: ['amazing']\n",
      "Negative: ['bad']\n",
      "Neutral: ['Except', 'the', 'fried', 'chicken', 'everything', 'else', 'at', 'the', 'restaurant', 'tastes', 'very', '.']\n",
      "------------------------------\n"
     ]
    }
   ],
   "source": [
    "## Printing the positive, negative and neutral words in a sentence using Sentiment Intensity Analyzer\n",
    "\n",
    "def get_word_sentiment(text):\n",
    "    sentiment_analyzer = SentimentIntensityAnalyzer()\n",
    "    \n",
    "    tokenized_text = nltk.word_tokenize(text)\n",
    "    \n",
    "    positive_words=[]\n",
    "    neutral_words=[]\n",
    "    negative_words=[]\n",
    "    for word in tokenized_text:\n",
    "        if (sentiment_analyzer.polarity_scores(word)['compound']) >= 0.1:\n",
    "            positive_words.append(word)\n",
    "        elif (sentiment_analyzer.polarity_scores(word)['compound']) <= -0.1:\n",
    "            negative_words.append(word)\n",
    "        else:\n",
    "            neutral_words.append(word)\n",
    "    print(text)\n",
    "    print('Positive:',positive_words)        \n",
    "    print('Negative:',negative_words)    \n",
    "    print('Neutral:',neutral_words)\n",
    "    print(\"-\"*30)\n",
    "    \n",
    "\n",
    "get_word_sentiment(positive)\n",
    "get_word_sentiment(negative)\n",
    "get_word_sentiment(ambiguous)"
   ]
  }
 ],
 "metadata": {
  "kernelspec": {
   "display_name": "myenv",
   "language": "python",
   "name": "myenv"
  },
  "language_info": {
   "codemirror_mode": {
    "name": "ipython",
    "version": 3
   },
   "file_extension": ".py",
   "mimetype": "text/x-python",
   "name": "python",
   "nbconvert_exporter": "python",
   "pygments_lexer": "ipython3",
   "version": "3.8.3"
  }
 },
 "nbformat": 4,
 "nbformat_minor": 4
}
